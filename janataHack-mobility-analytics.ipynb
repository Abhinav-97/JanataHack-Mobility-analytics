{
 "cells": [
  {
   "cell_type": "code",
   "execution_count": 1,
   "metadata": {
    "_cell_guid": "b1076dfc-b9ad-4769-8c92-a6c4dae69d19",
    "_uuid": "8f2839f25d086af736a60e9eeb907d3b93b6e0e5"
   },
   "outputs": [],
   "source": [
    "# This Python 3 environment comes with many helpful analytics libraries installed\n",
    "# It is defined by the kaggle/python Docker image: https://github.com/kaggle/docker-python\n",
    "# For example, here's several helpful packages to load\n",
    "\n",
    "import numpy as np # linear algebra\n",
    "import pandas as pd # data processing, CSV file I/O (e.g. pd.read_csv)\n",
    "\n",
    "# Input data files are available in the read-only \"../input/\" directory\n",
    "# For example, running this (by clicking run or pressing Shift+Enter) will list all files under the input directory\n",
    "\n",
    "import os\n",
    "\n",
    "pd.set_option('display.max_rows', 500)\n",
    "pd.set_option('display.max_columns', 500)\n",
    "pd.set_option('display.width', 1000)\n",
    "# You can write up to 5GB to the current directory (/kaggle/working/) that gets preserved as output when you create a version using \"Save & Run All\" \n",
    "# You can also write temporary files to /kaggle/temp/, but they won't be saved outside of the current session"
   ]
  },
  {
   "cell_type": "code",
   "execution_count": 2,
   "metadata": {},
   "outputs": [],
   "source": [
    "from matplotlib import pyplot as plt\n",
    "import seaborn as sns"
   ]
  },
  {
   "cell_type": "code",
   "execution_count": 3,
   "metadata": {},
   "outputs": [],
   "source": [
    "import lightgbm as lgb\n",
    "import sklearn\n",
    "from sklearn.preprocessing import LabelEncoder, OneHotEncoder\n",
    "from sklearn.model_selection import StratifiedKFold\n",
    "from sklearn.model_selection import train_test_split"
   ]
  },
  {
   "cell_type": "code",
   "execution_count": 7,
   "metadata": {},
   "outputs": [],
   "source": [
    "train_df = pd.read_csv(\"train_Wc8LBpr.csv\")\n",
    "test_df = pd.read_csv(\"test_VsU9xXK.csv\")"
   ]
  },
  {
   "cell_type": "code",
   "execution_count": 8,
   "metadata": {},
   "outputs": [
    {
     "data": {
      "text/html": [
       "<div>\n",
       "<style scoped>\n",
       "    .dataframe tbody tr th:only-of-type {\n",
       "        vertical-align: middle;\n",
       "    }\n",
       "\n",
       "    .dataframe tbody tr th {\n",
       "        vertical-align: top;\n",
       "    }\n",
       "\n",
       "    .dataframe thead th {\n",
       "        text-align: right;\n",
       "    }\n",
       "</style>\n",
       "<table border=\"1\" class=\"dataframe\">\n",
       "  <thead>\n",
       "    <tr style=\"text-align: right;\">\n",
       "      <th></th>\n",
       "      <th>Trip_ID</th>\n",
       "      <th>Trip_Distance</th>\n",
       "      <th>Type_of_Cab</th>\n",
       "      <th>Customer_Since_Months</th>\n",
       "      <th>Life_Style_Index</th>\n",
       "      <th>Confidence_Life_Style_Index</th>\n",
       "      <th>Destination_Type</th>\n",
       "      <th>Customer_Rating</th>\n",
       "      <th>Cancellation_Last_1Month</th>\n",
       "      <th>Var1</th>\n",
       "      <th>Var2</th>\n",
       "      <th>Var3</th>\n",
       "      <th>Gender</th>\n",
       "      <th>Surge_Pricing_Type</th>\n",
       "    </tr>\n",
       "  </thead>\n",
       "  <tbody>\n",
       "    <tr>\n",
       "      <th>0</th>\n",
       "      <td>T0005689460</td>\n",
       "      <td>6.77</td>\n",
       "      <td>B</td>\n",
       "      <td>1.0</td>\n",
       "      <td>2.42769</td>\n",
       "      <td>A</td>\n",
       "      <td>A</td>\n",
       "      <td>3.90500</td>\n",
       "      <td>0</td>\n",
       "      <td>40.0</td>\n",
       "      <td>46</td>\n",
       "      <td>60</td>\n",
       "      <td>Female</td>\n",
       "      <td>2</td>\n",
       "    </tr>\n",
       "    <tr>\n",
       "      <th>1</th>\n",
       "      <td>T0005689461</td>\n",
       "      <td>29.47</td>\n",
       "      <td>B</td>\n",
       "      <td>10.0</td>\n",
       "      <td>2.78245</td>\n",
       "      <td>B</td>\n",
       "      <td>A</td>\n",
       "      <td>3.45000</td>\n",
       "      <td>0</td>\n",
       "      <td>38.0</td>\n",
       "      <td>56</td>\n",
       "      <td>78</td>\n",
       "      <td>Male</td>\n",
       "      <td>2</td>\n",
       "    </tr>\n",
       "    <tr>\n",
       "      <th>2</th>\n",
       "      <td>T0005689464</td>\n",
       "      <td>41.58</td>\n",
       "      <td>NaN</td>\n",
       "      <td>10.0</td>\n",
       "      <td>NaN</td>\n",
       "      <td>NaN</td>\n",
       "      <td>E</td>\n",
       "      <td>3.50125</td>\n",
       "      <td>2</td>\n",
       "      <td>NaN</td>\n",
       "      <td>56</td>\n",
       "      <td>77</td>\n",
       "      <td>Male</td>\n",
       "      <td>2</td>\n",
       "    </tr>\n",
       "    <tr>\n",
       "      <th>3</th>\n",
       "      <td>T0005689465</td>\n",
       "      <td>61.56</td>\n",
       "      <td>C</td>\n",
       "      <td>10.0</td>\n",
       "      <td>NaN</td>\n",
       "      <td>NaN</td>\n",
       "      <td>A</td>\n",
       "      <td>3.45375</td>\n",
       "      <td>0</td>\n",
       "      <td>NaN</td>\n",
       "      <td>52</td>\n",
       "      <td>74</td>\n",
       "      <td>Male</td>\n",
       "      <td>3</td>\n",
       "    </tr>\n",
       "    <tr>\n",
       "      <th>4</th>\n",
       "      <td>T0005689467</td>\n",
       "      <td>54.95</td>\n",
       "      <td>C</td>\n",
       "      <td>10.0</td>\n",
       "      <td>3.03453</td>\n",
       "      <td>B</td>\n",
       "      <td>A</td>\n",
       "      <td>3.40250</td>\n",
       "      <td>4</td>\n",
       "      <td>51.0</td>\n",
       "      <td>49</td>\n",
       "      <td>102</td>\n",
       "      <td>Male</td>\n",
       "      <td>2</td>\n",
       "    </tr>\n",
       "  </tbody>\n",
       "</table>\n",
       "</div>"
      ],
      "text/plain": [
       "       Trip_ID  Trip_Distance Type_of_Cab  Customer_Since_Months  Life_Style_Index Confidence_Life_Style_Index Destination_Type  Customer_Rating  Cancellation_Last_1Month  Var1  Var2  Var3  Gender  Surge_Pricing_Type\n",
       "0  T0005689460           6.77           B                    1.0           2.42769                           A                A          3.90500                         0  40.0    46    60  Female                   2\n",
       "1  T0005689461          29.47           B                   10.0           2.78245                           B                A          3.45000                         0  38.0    56    78    Male                   2\n",
       "2  T0005689464          41.58         NaN                   10.0               NaN                         NaN                E          3.50125                         2   NaN    56    77    Male                   2\n",
       "3  T0005689465          61.56           C                   10.0               NaN                         NaN                A          3.45375                         0   NaN    52    74    Male                   3\n",
       "4  T0005689467          54.95           C                   10.0           3.03453                           B                A          3.40250                         4  51.0    49   102    Male                   2"
      ]
     },
     "execution_count": 8,
     "metadata": {},
     "output_type": "execute_result"
    }
   ],
   "source": [
    "train_df.head()"
   ]
  },
  {
   "cell_type": "code",
   "execution_count": 9,
   "metadata": {},
   "outputs": [
    {
     "data": {
      "text/html": [
       "<div>\n",
       "<style scoped>\n",
       "    .dataframe tbody tr th:only-of-type {\n",
       "        vertical-align: middle;\n",
       "    }\n",
       "\n",
       "    .dataframe tbody tr th {\n",
       "        vertical-align: top;\n",
       "    }\n",
       "\n",
       "    .dataframe thead th {\n",
       "        text-align: right;\n",
       "    }\n",
       "</style>\n",
       "<table border=\"1\" class=\"dataframe\">\n",
       "  <thead>\n",
       "    <tr style=\"text-align: right;\">\n",
       "      <th></th>\n",
       "      <th>Trip_ID</th>\n",
       "      <th>Trip_Distance</th>\n",
       "      <th>Type_of_Cab</th>\n",
       "      <th>Customer_Since_Months</th>\n",
       "      <th>Life_Style_Index</th>\n",
       "      <th>Confidence_Life_Style_Index</th>\n",
       "      <th>Destination_Type</th>\n",
       "      <th>Customer_Rating</th>\n",
       "      <th>Cancellation_Last_1Month</th>\n",
       "      <th>Var1</th>\n",
       "      <th>Var2</th>\n",
       "      <th>Var3</th>\n",
       "      <th>Gender</th>\n",
       "    </tr>\n",
       "  </thead>\n",
       "  <tbody>\n",
       "    <tr>\n",
       "      <th>0</th>\n",
       "      <td>T0005689459</td>\n",
       "      <td>9.44</td>\n",
       "      <td>A</td>\n",
       "      <td>10.0</td>\n",
       "      <td>2.57438</td>\n",
       "      <td>A</td>\n",
       "      <td>B</td>\n",
       "      <td>3.68000</td>\n",
       "      <td>2</td>\n",
       "      <td>NaN</td>\n",
       "      <td>46</td>\n",
       "      <td>63</td>\n",
       "      <td>Male</td>\n",
       "    </tr>\n",
       "    <tr>\n",
       "      <th>1</th>\n",
       "      <td>T0005689462</td>\n",
       "      <td>32.15</td>\n",
       "      <td>B</td>\n",
       "      <td>10.0</td>\n",
       "      <td>2.85143</td>\n",
       "      <td>A</td>\n",
       "      <td>A</td>\n",
       "      <td>1.59375</td>\n",
       "      <td>0</td>\n",
       "      <td>65.0</td>\n",
       "      <td>49</td>\n",
       "      <td>80</td>\n",
       "      <td>Female</td>\n",
       "    </tr>\n",
       "    <tr>\n",
       "      <th>2</th>\n",
       "      <td>T0005689463</td>\n",
       "      <td>10.38</td>\n",
       "      <td>C</td>\n",
       "      <td>4.0</td>\n",
       "      <td>2.70530</td>\n",
       "      <td>A</td>\n",
       "      <td>D</td>\n",
       "      <td>4.50500</td>\n",
       "      <td>0</td>\n",
       "      <td>NaN</td>\n",
       "      <td>47</td>\n",
       "      <td>74</td>\n",
       "      <td>Male</td>\n",
       "    </tr>\n",
       "    <tr>\n",
       "      <th>3</th>\n",
       "      <td>T0005689466</td>\n",
       "      <td>14.94</td>\n",
       "      <td>NaN</td>\n",
       "      <td>6.0</td>\n",
       "      <td>2.48159</td>\n",
       "      <td>C</td>\n",
       "      <td>E</td>\n",
       "      <td>4.53000</td>\n",
       "      <td>0</td>\n",
       "      <td>63.0</td>\n",
       "      <td>43</td>\n",
       "      <td>54</td>\n",
       "      <td>Male</td>\n",
       "    </tr>\n",
       "    <tr>\n",
       "      <th>4</th>\n",
       "      <td>T0005689468</td>\n",
       "      <td>32.03</td>\n",
       "      <td>B</td>\n",
       "      <td>7.0</td>\n",
       "      <td>2.81598</td>\n",
       "      <td>A</td>\n",
       "      <td>K</td>\n",
       "      <td>4.60125</td>\n",
       "      <td>3</td>\n",
       "      <td>96.0</td>\n",
       "      <td>44</td>\n",
       "      <td>56</td>\n",
       "      <td>Male</td>\n",
       "    </tr>\n",
       "  </tbody>\n",
       "</table>\n",
       "</div>"
      ],
      "text/plain": [
       "       Trip_ID  Trip_Distance Type_of_Cab  Customer_Since_Months  Life_Style_Index Confidence_Life_Style_Index Destination_Type  Customer_Rating  Cancellation_Last_1Month  Var1  Var2  Var3  Gender\n",
       "0  T0005689459           9.44           A                   10.0           2.57438                           A                B          3.68000                         2   NaN    46    63    Male\n",
       "1  T0005689462          32.15           B                   10.0           2.85143                           A                A          1.59375                         0  65.0    49    80  Female\n",
       "2  T0005689463          10.38           C                    4.0           2.70530                           A                D          4.50500                         0   NaN    47    74    Male\n",
       "3  T0005689466          14.94         NaN                    6.0           2.48159                           C                E          4.53000                         0  63.0    43    54    Male\n",
       "4  T0005689468          32.03           B                    7.0           2.81598                           A                K          4.60125                         3  96.0    44    56    Male"
      ]
     },
     "execution_count": 9,
     "metadata": {},
     "output_type": "execute_result"
    }
   ],
   "source": [
    "test_df.head()"
   ]
  },
  {
   "cell_type": "code",
   "execution_count": 10,
   "metadata": {},
   "outputs": [
    {
     "name": "stdout",
     "output_type": "stream",
     "text": [
      "train dataset is of shape:  (131662, 14)\n",
      "test dataset is of shape:  (87395, 13)\n"
     ]
    }
   ],
   "source": [
    "print(\"train dataset is of shape: \", train_df.shape)\n",
    "print(\"test dataset is of shape: \", test_df.shape)"
   ]
  },
  {
   "cell_type": "code",
   "execution_count": 11,
   "metadata": {},
   "outputs": [
    {
     "data": {
      "text/plain": [
       "Trip_ID                            0\n",
       "Trip_Distance                      0\n",
       "Type_of_Cab                    20210\n",
       "Customer_Since_Months           5920\n",
       "Life_Style_Index               20193\n",
       "Confidence_Life_Style_Index    20193\n",
       "Destination_Type                   0\n",
       "Customer_Rating                    0\n",
       "Cancellation_Last_1Month           0\n",
       "Var1                           71030\n",
       "Var2                               0\n",
       "Var3                               0\n",
       "Gender                             0\n",
       "Surge_Pricing_Type                 0\n",
       "dtype: int64"
      ]
     },
     "execution_count": 11,
     "metadata": {},
     "output_type": "execute_result"
    }
   ],
   "source": [
    "train_df.isnull().sum()"
   ]
  },
  {
   "cell_type": "code",
   "execution_count": 12,
   "metadata": {},
   "outputs": [
    {
     "data": {
      "text/plain": [
       "Trip_ID                            0\n",
       "Trip_Distance                      0\n",
       "Type_of_Cab                    13158\n",
       "Customer_Since_Months           3966\n",
       "Life_Style_Index               13327\n",
       "Confidence_Life_Style_Index    13327\n",
       "Destination_Type                   0\n",
       "Customer_Rating                    0\n",
       "Cancellation_Last_1Month           0\n",
       "Var1                           46789\n",
       "Var2                               0\n",
       "Var3                               0\n",
       "Gender                             0\n",
       "dtype: int64"
      ]
     },
     "execution_count": 12,
     "metadata": {},
     "output_type": "execute_result"
    }
   ],
   "source": [
    "test_df.isnull().sum()"
   ]
  },
  {
   "cell_type": "code",
   "execution_count": 13,
   "metadata": {},
   "outputs": [
    {
     "data": {
      "text/plain": [
       "<matplotlib.axes._subplots.AxesSubplot at 0x7fb2f4bc5810>"
      ]
     },
     "execution_count": 13,
     "metadata": {},
     "output_type": "execute_result"
    },
    {
     "data": {
      "image/png": "[encoded data removed]",
      "text/plain": [
       "<Figure size 432x288 with 1 Axes>"
      ]
     },
     "metadata": {
      "needs_background": "light"
     },
     "output_type": "display_data"
    }
   ],
   "source": [
    "sns.countplot(train_df[\"Surge_Pricing_Type\"])"
   ]
  },
  {
   "cell_type": "code",
   "execution_count": 14,
   "metadata": {},
   "outputs": [
    {
     "data": {
      "text/plain": [
       "<matplotlib.axes._subplots.AxesSubplot at 0x7fb2f7841450>"
      ]
     },
     "execution_count": 14,
     "metadata": {},
     "output_type": "execute_result"
    },
    {
     "data": {
      "image/png": "[encoded data removed]",
      "text/plain": [
       "<Figure size 432x288 with 1 Axes>"
      ]
     },
     "metadata": {
      "needs_background": "light"
     },
     "output_type": "display_data"
    }
   ],
   "source": [
    "sns.countplot(train_df[\"Type_of_Cab\"])"
   ]
  },
  {
   "cell_type": "code",
   "execution_count": 15,
   "metadata": {},
   "outputs": [
    {
     "data": {
      "text/plain": [
       "<matplotlib.axes._subplots.AxesSubplot at 0x7fb2f6141c10>"
      ]
     },
     "execution_count": 15,
     "metadata": {},
     "output_type": "execute_result"
    },
    {
     "data": {
      "image/png": "[encoded data removed]",
      "text/plain": [
       "<Figure size 432x288 with 1 Axes>"
      ]
     },
     "metadata": {
      "needs_background": "light"
     },
     "output_type": "display_data"
    }
   ],
   "source": [
    "x = train_df.groupby(\"Destination_Type\")[\"Customer_Rating\"].mean().index\n",
    "y=train_df.groupby(\"Destination_Type\")[\"Customer_Rating\"].mean().values\n",
    "sns.barplot(x,y)"
   ]
  },
  {
   "cell_type": "code",
   "execution_count": 16,
   "metadata": {},
   "outputs": [
    {
     "data": {
      "text/plain": [
       "<matplotlib.axes._subplots.AxesSubplot at 0x7fb2f602ba90>"
      ]
     },
     "execution_count": 16,
     "metadata": {},
     "output_type": "execute_result"
    },
    {
     "data": {
      "image/png": "[encoded data removed]",
      "text/plain": [
       "<Figure size 432x288 with 1 Axes>"
      ]
     },
     "metadata": {
      "needs_background": "light"
     },
     "output_type": "display_data"
    }
   ],
   "source": [
    "x = train_df.groupby(\"Type_of_Cab\")[\"Trip_Distance\"].mean().index\n",
    "y=train_df.groupby(\"Type_of_Cab\")[\"Trip_Distance\"].mean().values\n",
    "sns.barplot(x,y)"
   ]
  },
  {
   "cell_type": "code",
   "execution_count": 17,
   "metadata": {},
   "outputs": [
    {
     "data": {
      "text/plain": [
       "<matplotlib.axes._subplots.AxesSubplot at 0x7fb2f5fe59d0>"
      ]
     },
     "execution_count": 17,
     "metadata": {},
     "output_type": "execute_result"
    },
    {
     "data": {
      "image/png": "[encoded data removed]",
      "text/plain": [
       "<Figure size 432x288 with 1 Axes>"
      ]
     },
     "metadata": {
      "needs_background": "light"
     },
     "output_type": "display_data"
    }
   ],
   "source": [
    "x = train_df.groupby(\"Destination_Type\")[\"Trip_Distance\"].mean().index\n",
    "y=train_df.groupby(\"Destination_Type\")[\"Trip_Distance\"].mean().values\n",
    "sns.barplot(x,y)"
   ]
  },
  {
   "cell_type": "code",
   "execution_count": 18,
   "metadata": {},
   "outputs": [
    {
     "data": {
      "text/plain": [
       "<matplotlib.axes._subplots.AxesSubplot at 0x7fb2f5f342d0>"
      ]
     },
     "execution_count": 18,
     "metadata": {},
     "output_type": "execute_result"
    },
    {
     "data": {
      "image/png": "[encoded data removed]",
      "text/plain": [
       "<Figure size 432x288 with 1 Axes>"
      ]
     },
     "metadata": {
      "needs_background": "light"
     },
     "output_type": "display_data"
    }
   ],
   "source": [
    "x = train_df.groupby(\"Confidence_Life_Style_Index\")[\"Trip_Distance\"].mean().index\n",
    "y=train_df.groupby(\"Confidence_Life_Style_Index\")[\"Trip_Distance\"].mean().values\n",
    "sns.barplot(x,y)"
   ]
  },
  {
   "cell_type": "code",
   "execution_count": 19,
   "metadata": {},
   "outputs": [
    {
     "data": {
      "text/plain": [
       "<matplotlib.axes._subplots.AxesSubplot at 0x7fb2f5ec5250>"
      ]
     },
     "execution_count": 19,
     "metadata": {},
     "output_type": "execute_result"
    },
    {
     "data": {
      "image/png": "[encoded data removed]",
      "text/plain": [
       "<Figure size 432x288 with 1 Axes>"
      ]
     },
     "metadata": {
      "needs_background": "light"
     },
     "output_type": "display_data"
    }
   ],
   "source": [
    "x = train_df.groupby(\"Destination_Type\")[\"Customer_Rating\"].mean().index\n",
    "y=train_df.groupby(\"Destination_Type\")[\"Customer_Rating\"].mean().values\n",
    "sns.barplot(x,y)"
   ]
  },
  {
   "cell_type": "code",
   "execution_count": 20,
   "metadata": {},
   "outputs": [
    {
     "data": {
      "text/plain": [
       "<matplotlib.axes._subplots.AxesSubplot at 0x7fb2f5da6dd0>"
      ]
     },
     "execution_count": 20,
     "metadata": {},
     "output_type": "execute_result"
    },
    {
     "data": {
      "image/png": "[encoded data removed]",
      "text/plain": [
       "<Figure size 432x288 with 1 Axes>"
      ]
     },
     "metadata": {
      "needs_background": "light"
     },
     "output_type": "display_data"
    }
   ],
   "source": [
    "x = train_df.groupby(\"Surge_Pricing_Type\")[\"Customer_Since_Months\"].mean().index\n",
    "y=train_df.groupby(\"Surge_Pricing_Type\")[\"Customer_Since_Months\"].mean().values\n",
    "sns.barplot(x,y)"
   ]
  },
  {
   "cell_type": "code",
   "execution_count": 21,
   "metadata": {},
   "outputs": [
    {
     "data": {
      "text/plain": [
       "<matplotlib.axes._subplots.AxesSubplot at 0x7fb2f5d15790>"
      ]
     },
     "execution_count": 21,
     "metadata": {},
     "output_type": "execute_result"
    },
    {
     "data": {
      "image/png": "[encoded data removed]",
      "text/plain": [
       "<Figure size 432x288 with 1 Axes>"
      ]
     },
     "metadata": {
      "needs_background": "light"
     },
     "output_type": "display_data"
    }
   ],
   "source": [
    "x = train_df.groupby(\"Customer_Since_Months\")[\"Trip_Distance\"].mean().index\n",
    "y=train_df.groupby(\"Customer_Since_Months\")[\"Trip_Distance\"].mean().values\n",
    "sns.barplot(x,y)"
   ]
  },
  {
   "cell_type": "code",
   "execution_count": 22,
   "metadata": {},
   "outputs": [
    {
     "data": {
      "text/plain": [
       "<matplotlib.axes._subplots.AxesSubplot at 0x7fb2f5cbeb90>"
      ]
     },
     "execution_count": 22,
     "metadata": {},
     "output_type": "execute_result"
    },
    {
     "data": {
      "image/png": "[encoded data removed]",
      "text/plain": [
       "<Figure size 432x288 with 1 Axes>"
      ]
     },
     "metadata": {
      "needs_background": "light"
     },
     "output_type": "display_data"
    }
   ],
   "source": [
    "x = train_df.groupby(\"Surge_Pricing_Type\")[\"Cancellation_Last_1Month\"].mean().index\n",
    "y=train_df.groupby(\"Surge_Pricing_Type\")[\"Cancellation_Last_1Month\"].mean().values\n",
    "sns.barplot(x,y)"
   ]
  },
  {
   "cell_type": "code",
   "execution_count": 23,
   "metadata": {},
   "outputs": [
    {
     "data": {
      "text/plain": [
       "<matplotlib.axes._subplots.AxesSubplot at 0x7fb2f5c2db10>"
      ]
     },
     "execution_count": 23,
     "metadata": {},
     "output_type": "execute_result"
    },
    {
     "data": {
      "image/png": "[encoded data removed]",
      "text/plain": [
       "<Figure size 432x288 with 1 Axes>"
      ]
     },
     "metadata": {
      "needs_background": "light"
     },
     "output_type": "display_data"
    }
   ],
   "source": [
    "sns.countplot(train_df[\"Customer_Since_Months\"])"
   ]
  },
  {
   "cell_type": "code",
   "execution_count": 24,
   "metadata": {},
   "outputs": [
    {
     "data": {
      "text/plain": [
       "<matplotlib.axes._subplots.AxesSubplot at 0x7fb2f5bc8490>"
      ]
     },
     "execution_count": 24,
     "metadata": {},
     "output_type": "execute_result"
    },
    {
     "data": {
      "image/png": "[encoded data removed]",
      "text/plain": [
       "<Figure size 432x288 with 1 Axes>"
      ]
     },
     "metadata": {
      "needs_background": "light"
     },
     "output_type": "display_data"
    }
   ],
   "source": [
    "sns.countplot(train_df[\"Cancellation_Last_1Month\"])"
   ]
  },
  {
   "cell_type": "code",
   "execution_count": 25,
   "metadata": {},
   "outputs": [
    {
     "data": {
      "image/png": "[encoded data removed]",
      "text/plain": [
       "<Figure size 432x288 with 1 Axes>"
      ]
     },
     "metadata": {
      "needs_background": "light"
     },
     "output_type": "display_data"
    }
   ],
   "source": [
    "sns.distplot(train_df[\"Life_Style_Index\"])\n",
    "plt.show()"
   ]
  },
  {
   "cell_type": "code",
   "execution_count": 26,
   "metadata": {},
   "outputs": [
    {
     "data": {
      "image/png": "[encoded data removed]",
      "text/plain": [
       "<Figure size 432x288 with 1 Axes>"
      ]
     },
     "metadata": {
      "needs_background": "light"
     },
     "output_type": "display_data"
    }
   ],
   "source": [
    "sns.distplot(train_df[\"Customer_Rating\"])\n",
    "plt.show()"
   ]
  },
  {
   "cell_type": "code",
   "execution_count": 27,
   "metadata": {},
   "outputs": [
    {
     "data": {
      "image/png": "[encoded data removed]",
      "text/plain": [
       "<Figure size 432x288 with 1 Axes>"
      ]
     },
     "metadata": {
      "needs_background": "light"
     },
     "output_type": "display_data"
    }
   ],
   "source": [
    "sns.distplot(train_df[\"Var2\"])\n",
    "plt.show()"
   ]
  },
  {
   "cell_type": "markdown",
   "metadata": {},
   "source": [
    "## Feature engineering"
   ]
  },
  {
   "cell_type": "code",
   "execution_count": 28,
   "metadata": {},
   "outputs": [],
   "source": [
    "train_df[\"Trip_Distance_per_destType\"] = train_df[\"Trip_Distance\"]/train_df.groupby(['Destination_Type'])['Trip_Distance'].transform('mean')\n",
    "train_df[\"Trip_Distance_per_CabType\"] = train_df[\"Trip_Distance\"]/train_df.groupby(['Type_of_Cab'])['Trip_Distance'].transform('mean')\n",
    "train_df[\"Trip_Distance_per_lifeStyle\"] = train_df[\"Trip_Distance\"]/train_df.groupby(['Confidence_Life_Style_Index'])['Trip_Distance'].transform('mean')\n",
    "\n",
    "\n",
    "test_df[\"Trip_Distance_per_destType\"] = test_df[\"Trip_Distance\"]/test_df.groupby(['Destination_Type'])['Trip_Distance'].transform('mean')\n",
    "test_df[\"Trip_Distance_per_CabType\"] = test_df[\"Trip_Distance\"]/test_df.groupby(['Type_of_Cab'])['Trip_Distance'].transform('mean')\n",
    "test_df[\"Trip_Distance_per_lifeStyle\"] = test_df[\"Trip_Distance\"]/test_df.groupby(['Confidence_Life_Style_Index'])['Trip_Distance'].transform('mean')\n",
    "\n",
    "\n"
   ]
  },
  {
   "cell_type": "code",
   "execution_count": 29,
   "metadata": {},
   "outputs": [],
   "source": [
    "all_data = pd.concat([train_df, test_df])"
   ]
  },
  {
   "cell_type": "code",
   "execution_count": 30,
   "metadata": {},
   "outputs": [],
   "source": [
    "cat_cols = [\"Type_of_Cab\", \"Confidence_Life_Style_Index\", \"Destination_Type\", \"Gender\"]\n",
    "all_data= pd.get_dummies(all_data, columns=cat_cols)"
   ]
  },
  {
   "cell_type": "code",
   "execution_count": 31,
   "metadata": {},
   "outputs": [
    {
     "data": {
      "text/html": [
       "<div>\n",
       "<style scoped>\n",
       "    .dataframe tbody tr th:only-of-type {\n",
       "        vertical-align: middle;\n",
       "    }\n",
       "\n",
       "    .dataframe tbody tr th {\n",
       "        vertical-align: top;\n",
       "    }\n",
       "\n",
       "    .dataframe thead th {\n",
       "        text-align: right;\n",
       "    }\n",
       "</style>\n",
       "<table border=\"1\" class=\"dataframe\">\n",
       "  <thead>\n",
       "    <tr style=\"text-align: right;\">\n",
       "      <th></th>\n",
       "      <th>Trip_ID</th>\n",
       "      <th>Trip_Distance</th>\n",
       "      <th>Customer_Since_Months</th>\n",
       "      <th>Life_Style_Index</th>\n",
       "      <th>Customer_Rating</th>\n",
       "      <th>Cancellation_Last_1Month</th>\n",
       "      <th>Var1</th>\n",
       "      <th>Var2</th>\n",
       "      <th>Var3</th>\n",
       "      <th>Surge_Pricing_Type</th>\n",
       "      <th>Trip_Distance_per_destType</th>\n",
       "      <th>Trip_Distance_per_CabType</th>\n",
       "      <th>Trip_Distance_per_lifeStyle</th>\n",
       "      <th>Type_of_Cab_A</th>\n",
       "      <th>Type_of_Cab_B</th>\n",
       "      <th>Type_of_Cab_C</th>\n",
       "      <th>Type_of_Cab_D</th>\n",
       "      <th>Type_of_Cab_E</th>\n",
       "      <th>Confidence_Life_Style_Index_A</th>\n",
       "      <th>Confidence_Life_Style_Index_B</th>\n",
       "      <th>Confidence_Life_Style_Index_C</th>\n",
       "      <th>Destination_Type_A</th>\n",
       "      <th>Destination_Type_B</th>\n",
       "      <th>Destination_Type_C</th>\n",
       "      <th>Destination_Type_D</th>\n",
       "      <th>Destination_Type_E</th>\n",
       "      <th>Destination_Type_F</th>\n",
       "      <th>Destination_Type_G</th>\n",
       "      <th>Destination_Type_H</th>\n",
       "      <th>Destination_Type_I</th>\n",
       "      <th>Destination_Type_J</th>\n",
       "      <th>Destination_Type_K</th>\n",
       "      <th>Destination_Type_L</th>\n",
       "      <th>Destination_Type_M</th>\n",
       "      <th>Destination_Type_N</th>\n",
       "      <th>Gender_Female</th>\n",
       "      <th>Gender_Male</th>\n",
       "    </tr>\n",
       "  </thead>\n",
       "  <tbody>\n",
       "    <tr>\n",
       "      <th>0</th>\n",
       "      <td>T0005689460</td>\n",
       "      <td>6.77</td>\n",
       "      <td>1.0</td>\n",
       "      <td>2.42769</td>\n",
       "      <td>3.90500</td>\n",
       "      <td>0</td>\n",
       "      <td>40.0</td>\n",
       "      <td>46</td>\n",
       "      <td>60</td>\n",
       "      <td>2.0</td>\n",
       "      <td>0.145168</td>\n",
       "      <td>0.162634</td>\n",
       "      <td>0.219152</td>\n",
       "      <td>0</td>\n",
       "      <td>1</td>\n",
       "      <td>0</td>\n",
       "      <td>0</td>\n",
       "      <td>0</td>\n",
       "      <td>1</td>\n",
       "      <td>0</td>\n",
       "      <td>0</td>\n",
       "      <td>1</td>\n",
       "      <td>0</td>\n",
       "      <td>0</td>\n",
       "      <td>0</td>\n",
       "      <td>0</td>\n",
       "      <td>0</td>\n",
       "      <td>0</td>\n",
       "      <td>0</td>\n",
       "      <td>0</td>\n",
       "      <td>0</td>\n",
       "      <td>0</td>\n",
       "      <td>0</td>\n",
       "      <td>0</td>\n",
       "      <td>0</td>\n",
       "      <td>1</td>\n",
       "      <td>0</td>\n",
       "    </tr>\n",
       "    <tr>\n",
       "      <th>1</th>\n",
       "      <td>T0005689461</td>\n",
       "      <td>29.47</td>\n",
       "      <td>10.0</td>\n",
       "      <td>2.78245</td>\n",
       "      <td>3.45000</td>\n",
       "      <td>0</td>\n",
       "      <td>38.0</td>\n",
       "      <td>56</td>\n",
       "      <td>78</td>\n",
       "      <td>2.0</td>\n",
       "      <td>0.631918</td>\n",
       "      <td>0.707949</td>\n",
       "      <td>0.550570</td>\n",
       "      <td>0</td>\n",
       "      <td>1</td>\n",
       "      <td>0</td>\n",
       "      <td>0</td>\n",
       "      <td>0</td>\n",
       "      <td>0</td>\n",
       "      <td>1</td>\n",
       "      <td>0</td>\n",
       "      <td>1</td>\n",
       "      <td>0</td>\n",
       "      <td>0</td>\n",
       "      <td>0</td>\n",
       "      <td>0</td>\n",
       "      <td>0</td>\n",
       "      <td>0</td>\n",
       "      <td>0</td>\n",
       "      <td>0</td>\n",
       "      <td>0</td>\n",
       "      <td>0</td>\n",
       "      <td>0</td>\n",
       "      <td>0</td>\n",
       "      <td>0</td>\n",
       "      <td>0</td>\n",
       "      <td>1</td>\n",
       "    </tr>\n",
       "    <tr>\n",
       "      <th>2</th>\n",
       "      <td>T0005689464</td>\n",
       "      <td>41.58</td>\n",
       "      <td>10.0</td>\n",
       "      <td>NaN</td>\n",
       "      <td>3.50125</td>\n",
       "      <td>2</td>\n",
       "      <td>NaN</td>\n",
       "      <td>56</td>\n",
       "      <td>77</td>\n",
       "      <td>2.0</td>\n",
       "      <td>1.299231</td>\n",
       "      <td>NaN</td>\n",
       "      <td>NaN</td>\n",
       "      <td>0</td>\n",
       "      <td>0</td>\n",
       "      <td>0</td>\n",
       "      <td>0</td>\n",
       "      <td>0</td>\n",
       "      <td>0</td>\n",
       "      <td>0</td>\n",
       "      <td>0</td>\n",
       "      <td>0</td>\n",
       "      <td>0</td>\n",
       "      <td>0</td>\n",
       "      <td>0</td>\n",
       "      <td>1</td>\n",
       "      <td>0</td>\n",
       "      <td>0</td>\n",
       "      <td>0</td>\n",
       "      <td>0</td>\n",
       "      <td>0</td>\n",
       "      <td>0</td>\n",
       "      <td>0</td>\n",
       "      <td>0</td>\n",
       "      <td>0</td>\n",
       "      <td>0</td>\n",
       "      <td>1</td>\n",
       "    </tr>\n",
       "    <tr>\n",
       "      <th>3</th>\n",
       "      <td>T0005689465</td>\n",
       "      <td>61.56</td>\n",
       "      <td>10.0</td>\n",
       "      <td>NaN</td>\n",
       "      <td>3.45375</td>\n",
       "      <td>0</td>\n",
       "      <td>NaN</td>\n",
       "      <td>52</td>\n",
       "      <td>74</td>\n",
       "      <td>3.0</td>\n",
       "      <td>1.320017</td>\n",
       "      <td>1.410791</td>\n",
       "      <td>NaN</td>\n",
       "      <td>0</td>\n",
       "      <td>0</td>\n",
       "      <td>1</td>\n",
       "      <td>0</td>\n",
       "      <td>0</td>\n",
       "      <td>0</td>\n",
       "      <td>0</td>\n",
       "      <td>0</td>\n",
       "      <td>1</td>\n",
       "      <td>0</td>\n",
       "      <td>0</td>\n",
       "      <td>0</td>\n",
       "      <td>0</td>\n",
       "      <td>0</td>\n",
       "      <td>0</td>\n",
       "      <td>0</td>\n",
       "      <td>0</td>\n",
       "      <td>0</td>\n",
       "      <td>0</td>\n",
       "      <td>0</td>\n",
       "      <td>0</td>\n",
       "      <td>0</td>\n",
       "      <td>0</td>\n",
       "      <td>1</td>\n",
       "    </tr>\n",
       "    <tr>\n",
       "      <th>4</th>\n",
       "      <td>T0005689467</td>\n",
       "      <td>54.95</td>\n",
       "      <td>10.0</td>\n",
       "      <td>3.03453</td>\n",
       "      <td>3.40250</td>\n",
       "      <td>4</td>\n",
       "      <td>51.0</td>\n",
       "      <td>49</td>\n",
       "      <td>102</td>\n",
       "      <td>2.0</td>\n",
       "      <td>1.178280</td>\n",
       "      <td>1.259308</td>\n",
       "      <td>1.026598</td>\n",
       "      <td>0</td>\n",
       "      <td>0</td>\n",
       "      <td>1</td>\n",
       "      <td>0</td>\n",
       "      <td>0</td>\n",
       "      <td>0</td>\n",
       "      <td>1</td>\n",
       "      <td>0</td>\n",
       "      <td>1</td>\n",
       "      <td>0</td>\n",
       "      <td>0</td>\n",
       "      <td>0</td>\n",
       "      <td>0</td>\n",
       "      <td>0</td>\n",
       "      <td>0</td>\n",
       "      <td>0</td>\n",
       "      <td>0</td>\n",
       "      <td>0</td>\n",
       "      <td>0</td>\n",
       "      <td>0</td>\n",
       "      <td>0</td>\n",
       "      <td>0</td>\n",
       "      <td>0</td>\n",
       "      <td>1</td>\n",
       "    </tr>\n",
       "  </tbody>\n",
       "</table>\n",
       "</div>"
      ],
      "text/plain": [
       "       Trip_ID  Trip_Distance  Customer_Since_Months  Life_Style_Index  Customer_Rating  Cancellation_Last_1Month  Var1  Var2  Var3  Surge_Pricing_Type  Trip_Distance_per_destType  Trip_Distance_per_CabType  Trip_Distance_per_lifeStyle  Type_of_Cab_A  Type_of_Cab_B  Type_of_Cab_C  Type_of_Cab_D  Type_of_Cab_E  Confidence_Life_Style_Index_A  Confidence_Life_Style_Index_B  Confidence_Life_Style_Index_C  Destination_Type_A  Destination_Type_B  Destination_Type_C  Destination_Type_D  Destination_Type_E  Destination_Type_F  Destination_Type_G  Destination_Type_H  Destination_Type_I  Destination_Type_J  Destination_Type_K  Destination_Type_L  Destination_Type_M  Destination_Type_N  Gender_Female  Gender_Male\n",
       "0  T0005689460           6.77                    1.0           2.42769          3.90500                         0  40.0    46    60                 2.0                    0.145168                   0.162634                     0.219152              0              1              0              0              0                              1                              0                              0                   1                   0                   0                   0                   0                   0                   0                   0                   0                   0                   0                   0                   0                   0              1            0\n",
       "1  T0005689461          29.47                   10.0           2.78245          3.45000                         0  38.0    56    78                 2.0                    0.631918                   0.707949                     0.550570              0              1              0              0              0                              0                              1                              0                   1                   0                   0                   0                   0                   0                   0                   0                   0                   0                   0                   0                   0                   0              0            1\n",
       "2  T0005689464          41.58                   10.0               NaN          3.50125                         2   NaN    56    77                 2.0                    1.299231                        NaN                          NaN              0              0              0              0              0                              0                              0                              0                   0                   0                   0                   0                   1                   0                   0                   0                   0                   0                   0                   0                   0                   0              0            1\n",
       "3  T0005689465          61.56                   10.0               NaN          3.45375                         0   NaN    52    74                 3.0                    1.320017                   1.410791                          NaN              0              0              1              0              0                              0                              0                              0                   1                   0                   0                   0                   0                   0                   0                   0                   0                   0                   0                   0                   0                   0              0            1\n",
       "4  T0005689467          54.95                   10.0           3.03453          3.40250                         4  51.0    49   102                 2.0                    1.178280                   1.259308                     1.026598              0              0              1              0              0                              0                              1                              0                   1                   0                   0                   0                   0                   0                   0                   0                   0                   0                   0                   0                   0                   0              0            1"
      ]
     },
     "execution_count": 31,
     "metadata": {},
     "output_type": "execute_result"
    }
   ],
   "source": [
    "all_data.head()"
   ]
  },
  {
   "cell_type": "code",
   "execution_count": 32,
   "metadata": {},
   "outputs": [],
   "source": [
    "train_len = train_df.shape[0]\n",
    "test_len = test_df.shape[0]\n",
    "\n",
    "train_df = all_data[:train_len]\n",
    "test_df = all_data[train_len:]"
   ]
  },
  {
   "cell_type": "code",
   "execution_count": 33,
   "metadata": {},
   "outputs": [],
   "source": [
    "target_map = {1:0, 2:1, 3:2}\n",
    "target_map_inverse = {0:1, 1:2, 2:3}"
   ]
  },
  {
   "cell_type": "code",
   "execution_count": 34,
   "metadata": {},
   "outputs": [
    {
     "name": "stderr",
     "output_type": "stream",
     "text": [
      "/opt/conda/lib/python3.7/site-packages/ipykernel_launcher.py:1: SettingWithCopyWarning: \n",
      "A value is trying to be set on a copy of a slice from a DataFrame.\n",
      "Try using .loc[row_indexer,col_indexer] = value instead\n",
      "\n",
      "See the caveats in the documentation: https://pandas.pydata.org/pandas-docs/stable/user_guide/indexing.html#returning-a-view-versus-a-copy\n",
      "  \"\"\"Entry point for launching an IPython kernel.\n"
     ]
    }
   ],
   "source": [
    "train_df[\"Surge_Pricing_Type\"] = train_df[\"Surge_Pricing_Type\"].map(target_map)"
   ]
  },
  {
   "cell_type": "code",
   "execution_count": 35,
   "metadata": {},
   "outputs": [],
   "source": [
    "features = [col for col in train_df.columns if col not in [\"Trip_ID\", \"Surge_Pricing_Type\"]]\n",
    "target = train_df[\"Surge_Pricing_Type\"]"
   ]
  },
  {
   "cell_type": "code",
   "execution_count": 38,
   "metadata": {},
   "outputs": [],
   "source": [
    "param = {\n",
    "    'bagging_freq': 5,\n",
    "    'bagging_fraction': 0.5,\n",
    "    'boost': 'gbdt',\n",
    "    'feature_fraction': 0.7,\n",
    "    'learning_rate': 0.005,\n",
    "    'num_class':3,\n",
    "    'metric':'multi_logloss',\n",
    "    'max_depth': 8,  \n",
    "    'num_leaves': 70,\n",
    "    'min_data_in_leaf':40,\n",
    "    'objective': 'multiclass',\n",
    "    'scale_pos_weight':1,\n",
    "    'device':'gpu',\n",
    "    'verbosity': 1\n",
    "}"
   ]
  },
  {
   "cell_type": "markdown",
   "metadata": {},
   "source": [
    "## 5 fold cross val"
   ]
  },
  {
   "cell_type": "code",
   "execution_count": 39,
   "metadata": {},
   "outputs": [
    {
     "name": "stdout",
     "output_type": "stream",
     "text": [
      "Fold 0\n",
      "Training until validation scores don't improve for 1000 rounds\n",
      "[1000]\ttraining's multi_logloss: 0.677927\tvalid_1's multi_logloss: 0.69856\n",
      "[2000]\ttraining's multi_logloss: 0.645835\tvalid_1's multi_logloss: 0.689301\n",
      "[3000]\ttraining's multi_logloss: 0.623739\tvalid_1's multi_logloss: 0.688352\n",
      "Early stopping, best iteration is:\n",
      "[2890]\ttraining's multi_logloss: 0.625996\tvalid_1's multi_logloss: 0.688302\n",
      "CV score: 0.70641 \n",
      "Fold 1\n",
      "Training until validation scores don't improve for 1000 rounds\n",
      "[1000]\ttraining's multi_logloss: 0.676347\tvalid_1's multi_logloss: 0.70422\n",
      "[2000]\ttraining's multi_logloss: 0.643938\tvalid_1's multi_logloss: 0.695082\n",
      "[3000]\ttraining's multi_logloss: 0.62184\tvalid_1's multi_logloss: 0.694166\n",
      "Early stopping, best iteration is:\n",
      "[2860]\ttraining's multi_logloss: 0.62468\tvalid_1's multi_logloss: 0.694135\n",
      "CV score: 0.70258 \n",
      "Fold 2\n",
      "Training until validation scores don't improve for 1000 rounds\n",
      "[1000]\ttraining's multi_logloss: 0.677491\tvalid_1's multi_logloss: 0.70093\n",
      "[2000]\ttraining's multi_logloss: 0.64543\tvalid_1's multi_logloss: 0.691111\n",
      "[3000]\ttraining's multi_logloss: 0.623447\tvalid_1's multi_logloss: 0.68983\n",
      "Early stopping, best iteration is:\n",
      "[2994]\ttraining's multi_logloss: 0.623556\tvalid_1's multi_logloss: 0.689826\n",
      "CV score: 0.70796 \n",
      "Fold 3\n",
      "Training until validation scores don't improve for 1000 rounds\n",
      "[1000]\ttraining's multi_logloss: 0.676283\tvalid_1's multi_logloss: 0.705152\n",
      "[2000]\ttraining's multi_logloss: 0.644335\tvalid_1's multi_logloss: 0.695804\n",
      "[3000]\ttraining's multi_logloss: 0.622344\tvalid_1's multi_logloss: 0.694084\n",
      "[4000]\ttraining's multi_logloss: 0.602937\tvalid_1's multi_logloss: 0.694234\n",
      "Early stopping, best iteration is:\n",
      "[3366]\ttraining's multi_logloss: 0.615127\tvalid_1's multi_logloss: 0.693973\n",
      "CV score: 0.70355 \n",
      "Fold 4\n",
      "Training until validation scores don't improve for 1000 rounds\n",
      "[1000]\ttraining's multi_logloss: 0.678041\tvalid_1's multi_logloss: 0.698384\n",
      "[2000]\ttraining's multi_logloss: 0.645879\tvalid_1's multi_logloss: 0.688809\n",
      "[3000]\ttraining's multi_logloss: 0.623963\tvalid_1's multi_logloss: 0.687648\n",
      "Early stopping, best iteration is:\n",
      "[2875]\ttraining's multi_logloss: 0.626541\tvalid_1's multi_logloss: 0.687615\n",
      "CV score: 0.70842 \n"
     ]
    }
   ],
   "source": [
    "folds = StratifiedKFold(n_splits=5, shuffle=True, random_state=1048)\n",
    "predictions = np.zeros((len(test_df), 3))\n",
    "feature_importance_df = pd.DataFrame()\n",
    "for fold_, (trn_idx, val_idx) in enumerate(folds.split(train_df.values, target.values)):\n",
    "    print(\"Fold {}\".format(fold_))\n",
    "    trn_data = lgb.Dataset(train_df.iloc[trn_idx][features], label=target.iloc[trn_idx])\n",
    "    val_data = lgb.Dataset(train_df.iloc[val_idx][features], label=target.iloc[val_idx])\n",
    "\n",
    "    num_round = 1000000\n",
    "    clf = lgb.train(param, trn_data, num_round, valid_sets = [trn_data, val_data], verbose_eval=1000, early_stopping_rounds = 1000)\n",
    "    predictions_val = np.argmax(clf.predict(train_df.iloc[val_idx][features], num_iteration=clf.best_iteration), axis=1)\n",
    "    \n",
    "    print(\"CV score: {:<8.5f}\".format(sklearn.metrics.accuracy_score(predictions_val, target.iloc[val_idx])))\n",
    "    \n",
    "    fold_importance_df = pd.DataFrame()\n",
    "    fold_importance_df[\"Feature\"] = features\n",
    "    fold_importance_df[\"importance\"] = clf.feature_importance()\n",
    "    fold_importance_df[\"fold\"] = fold_ + 1\n",
    "    feature_importance_df = pd.concat([feature_importance_df, fold_importance_df], axis=0)\n",
    "    \n",
    "    predictions += clf.predict(test_df[features], num_iteration=clf.best_iteration) / folds.n_splits\n",
    "\n"
   ]
  },
  {
   "cell_type": "code",
   "execution_count": 40,
   "metadata": {},
   "outputs": [
    {
     "data": {
      "image/png": "[encoded data removed]",
      "text/plain": [
       "<Figure size 720x720 with 1 Axes>"
      ]
     },
     "metadata": {
      "needs_background": "light"
     },
     "output_type": "display_data"
    }
   ],
   "source": [
    "cols = (feature_importance_df[[\"Feature\", \"importance\"]]\n",
    "        .groupby(\"Feature\")\n",
    "        .mean()\n",
    "        .sort_values(by=\"importance\", ascending=False)[:150].index)\n",
    "best_features = feature_importance_df.loc[feature_importance_df.Feature.isin(cols)]\n",
    "\n",
    "plt.figure(figsize=(10,10))\n",
    "sns.barplot(x=\"importance\", y=\"Feature\", data=best_features.sort_values(by=\"importance\",ascending=False))\n",
    "plt.title('Features importance (averaged/folds)')\n",
    "plt.tight_layout()\n",
    "plt.savefig('FI.png')"
   ]
  },
  {
   "cell_type": "code",
   "execution_count": 43,
   "metadata": {},
   "outputs": [
    {
     "data": {
      "text/html": [
       "<div>\n",
       "<style scoped>\n",
       "    .dataframe tbody tr th:only-of-type {\n",
       "        vertical-align: middle;\n",
       "    }\n",
       "\n",
       "    .dataframe tbody tr th {\n",
       "        vertical-align: top;\n",
       "    }\n",
       "\n",
       "    .dataframe thead th {\n",
       "        text-align: right;\n",
       "    }\n",
       "</style>\n",
       "<table border=\"1\" class=\"dataframe\">\n",
       "  <thead>\n",
       "    <tr style=\"text-align: right;\">\n",
       "      <th></th>\n",
       "      <th>Trip_ID</th>\n",
       "      <th>Surge_Pricing_Type</th>\n",
       "    </tr>\n",
       "  </thead>\n",
       "  <tbody>\n",
       "    <tr>\n",
       "      <th>0</th>\n",
       "      <td>T0005689459</td>\n",
       "      <td>2</td>\n",
       "    </tr>\n",
       "    <tr>\n",
       "      <th>1</th>\n",
       "      <td>T0005689462</td>\n",
       "      <td>2</td>\n",
       "    </tr>\n",
       "    <tr>\n",
       "      <th>2</th>\n",
       "      <td>T0005689463</td>\n",
       "      <td>2</td>\n",
       "    </tr>\n",
       "    <tr>\n",
       "      <th>3</th>\n",
       "      <td>T0005689466</td>\n",
       "      <td>2</td>\n",
       "    </tr>\n",
       "    <tr>\n",
       "      <th>4</th>\n",
       "      <td>T0005689468</td>\n",
       "      <td>2</td>\n",
       "    </tr>\n",
       "  </tbody>\n",
       "</table>\n",
       "</div>"
      ],
      "text/plain": [
       "       Trip_ID  Surge_Pricing_Type\n",
       "0  T0005689459                   2\n",
       "1  T0005689462                   2\n",
       "2  T0005689463                   2\n",
       "3  T0005689466                   2\n",
       "4  T0005689468                   2"
      ]
     },
     "execution_count": 43,
     "metadata": {},
     "output_type": "execute_result"
    }
   ],
   "source": [
    "submission = pd.read_csv(\"sample_submission_NoPBkjr.csv\")\n",
    "submission.head()"
   ]
  },
  {
   "cell_type": "code",
   "execution_count": 45,
   "metadata": {},
   "outputs": [],
   "source": [
    "predictions_test = np.argmax(predictions, axis=1)"
   ]
  },
  {
   "cell_type": "code",
   "execution_count": 46,
   "metadata": {},
   "outputs": [],
   "source": [
    "submission[\"Surge_Pricing_Type\"] = predictions_test\n",
    "submission[\"Surge_Pricing_Type\"] = submission[\"Surge_Pricing_Type\"].map(target_map_inverse)"
   ]
  },
  {
   "cell_type": "code",
   "execution_count": 47,
   "metadata": {},
   "outputs": [],
   "source": [
    "submission.to_csv(\"janatahack_mobility.csv\", index=False)"
   ]
  },
  {
   "cell_type": "code",
   "execution_count": null,
   "metadata": {},
   "outputs": [],
   "source": [
    "create_download_link(filename=\"janatahack_mobility5.csv\")"
   ]
  },
  {
   "cell_type": "code",
   "execution_count": null,
   "metadata": {},
   "outputs": [],
   "source": []
  }
 ],
 "metadata": {
  "kernelspec": {
   "display_name": "Python 3",
   "language": "python",
   "name": "python3"
  },
  "language_info": {
   "codemirror_mode": {
    "name": "ipython",
    "version": 3
   },
   "file_extension": ".py",
   "mimetype": "text/x-python",
   "name": "python",
   "nbconvert_exporter": "python",
   "pygments_lexer": "ipython3",
   "version": "3.7.4"
  }
 },
 "nbformat": 4,
 "nbformat_minor": 4
}
